{
 "cells": [
  {
   "cell_type": "code",
   "execution_count": 52,
   "id": "55ca8d80",
   "metadata": {},
   "outputs": [],
   "source": [
    "import numpy as np\n",
    "import pandas as pd"
   ]
  },
  {
   "cell_type": "code",
   "execution_count": 3,
   "id": "bbf1be91",
   "metadata": {},
   "outputs": [],
   "source": [
    "df = pd.read_csv(\"train_and_test2.csv\")"
   ]
  },
  {
   "cell_type": "code",
   "execution_count": 118,
   "id": "614a186c",
   "metadata": {
    "scrolled": false
   },
   "outputs": [
    {
     "data": {
      "text/html": [
       "<div>\n",
       "<style scoped>\n",
       "    .dataframe tbody tr th:only-of-type {\n",
       "        vertical-align: middle;\n",
       "    }\n",
       "\n",
       "    .dataframe tbody tr th {\n",
       "        vertical-align: top;\n",
       "    }\n",
       "\n",
       "    .dataframe thead th {\n",
       "        text-align: right;\n",
       "    }\n",
       "</style>\n",
       "<table border=\"1\" class=\"dataframe\">\n",
       "  <thead>\n",
       "    <tr style=\"text-align: right;\">\n",
       "      <th></th>\n",
       "      <th>Passengerid</th>\n",
       "      <th>Age</th>\n",
       "      <th>Fare</th>\n",
       "      <th>Sex</th>\n",
       "      <th>sibsp</th>\n",
       "      <th>Parch</th>\n",
       "      <th>Pclass</th>\n",
       "      <th>Embarked</th>\n",
       "      <th>Survived</th>\n",
       "    </tr>\n",
       "  </thead>\n",
       "  <tbody>\n",
       "    <tr>\n",
       "      <th>0</th>\n",
       "      <td>1</td>\n",
       "      <td>22.0</td>\n",
       "      <td>7.2500</td>\n",
       "      <td>0</td>\n",
       "      <td>1</td>\n",
       "      <td>0</td>\n",
       "      <td>3</td>\n",
       "      <td>2.0</td>\n",
       "      <td>0</td>\n",
       "    </tr>\n",
       "    <tr>\n",
       "      <th>1</th>\n",
       "      <td>2</td>\n",
       "      <td>38.0</td>\n",
       "      <td>71.2833</td>\n",
       "      <td>1</td>\n",
       "      <td>1</td>\n",
       "      <td>0</td>\n",
       "      <td>1</td>\n",
       "      <td>0.0</td>\n",
       "      <td>1</td>\n",
       "    </tr>\n",
       "    <tr>\n",
       "      <th>2</th>\n",
       "      <td>3</td>\n",
       "      <td>26.0</td>\n",
       "      <td>7.9250</td>\n",
       "      <td>1</td>\n",
       "      <td>0</td>\n",
       "      <td>0</td>\n",
       "      <td>3</td>\n",
       "      <td>2.0</td>\n",
       "      <td>1</td>\n",
       "    </tr>\n",
       "    <tr>\n",
       "      <th>3</th>\n",
       "      <td>4</td>\n",
       "      <td>35.0</td>\n",
       "      <td>53.1000</td>\n",
       "      <td>1</td>\n",
       "      <td>1</td>\n",
       "      <td>0</td>\n",
       "      <td>1</td>\n",
       "      <td>2.0</td>\n",
       "      <td>1</td>\n",
       "    </tr>\n",
       "    <tr>\n",
       "      <th>4</th>\n",
       "      <td>5</td>\n",
       "      <td>35.0</td>\n",
       "      <td>8.0500</td>\n",
       "      <td>0</td>\n",
       "      <td>0</td>\n",
       "      <td>0</td>\n",
       "      <td>3</td>\n",
       "      <td>2.0</td>\n",
       "      <td>0</td>\n",
       "    </tr>\n",
       "  </tbody>\n",
       "</table>\n",
       "</div>"
      ],
      "text/plain": [
       "   Passengerid   Age     Fare  Sex  sibsp  Parch  Pclass  Embarked  Survived\n",
       "0            1  22.0   7.2500    0      1      0       3       2.0         0\n",
       "1            2  38.0  71.2833    1      1      0       1       0.0         1\n",
       "2            3  26.0   7.9250    1      0      0       3       2.0         1\n",
       "3            4  35.0  53.1000    1      1      0       1       2.0         1\n",
       "4            5  35.0   8.0500    0      0      0       3       2.0         0"
      ]
     },
     "execution_count": 118,
     "metadata": {},
     "output_type": "execute_result"
    }
   ],
   "source": [
    "df.head()"
   ]
  },
  {
   "cell_type": "code",
   "execution_count": 5,
   "id": "f0390d9a",
   "metadata": {},
   "outputs": [
    {
     "data": {
      "text/plain": [
       "Index(['Passengerid', 'Age', 'Fare', 'Sex', 'sibsp', 'zero', 'zero.1',\n",
       "       'zero.2', 'zero.3', 'zero.4', 'zero.5', 'zero.6', 'Parch', 'zero.7',\n",
       "       'zero.8', 'zero.9', 'zero.10', 'zero.11', 'zero.12', 'zero.13',\n",
       "       'zero.14', 'Pclass', 'zero.15', 'zero.16', 'Embarked', 'zero.17',\n",
       "       'zero.18', '2urvived'],\n",
       "      dtype='object')"
      ]
     },
     "execution_count": 5,
     "metadata": {},
     "output_type": "execute_result"
    }
   ],
   "source": [
    "df.columns"
   ]
  },
  {
   "cell_type": "code",
   "execution_count": 6,
   "id": "9cd6cfb2",
   "metadata": {},
   "outputs": [
    {
     "name": "stdout",
     "output_type": "stream",
     "text": [
      "col Passengerid unique values: 1309\n",
      "col Age unique values: 98\n",
      "col Fare unique values: 281\n",
      "col Sex unique values: 2\n",
      "col sibsp unique values: 7\n",
      "col zero unique values: 1\n",
      "col zero.1 unique values: 1\n",
      "col zero.2 unique values: 1\n",
      "col zero.3 unique values: 1\n",
      "col zero.4 unique values: 1\n",
      "col zero.5 unique values: 1\n",
      "col zero.6 unique values: 1\n",
      "col Parch unique values: 8\n",
      "col zero.7 unique values: 1\n",
      "col zero.8 unique values: 1\n",
      "col zero.9 unique values: 1\n",
      "col zero.10 unique values: 1\n",
      "col zero.11 unique values: 1\n",
      "col zero.12 unique values: 1\n",
      "col zero.13 unique values: 1\n",
      "col zero.14 unique values: 1\n",
      "col Pclass unique values: 3\n",
      "col zero.15 unique values: 1\n",
      "col zero.16 unique values: 1\n",
      "col Embarked unique values: 4\n",
      "col zero.17 unique values: 1\n",
      "col zero.18 unique values: 1\n",
      "col 2urvived unique values: 2\n"
     ]
    }
   ],
   "source": [
    "for col in df.columns:\n",
    "    print(f\"col {col} unique values: {len(df[col].unique())}\")"
   ]
  },
  {
   "cell_type": "code",
   "execution_count": 7,
   "id": "072033a6",
   "metadata": {
    "scrolled": true
   },
   "outputs": [
    {
     "data": {
      "text/plain": [
       "{0: 1002, 1: 170, 2: 113, 3: 8, 5: 6, 4: 6, 6: 2, 9: 2}"
      ]
     },
     "execution_count": 7,
     "metadata": {},
     "output_type": "execute_result"
    }
   ],
   "source": [
    "dict(df.Parch.value_counts())"
   ]
  },
  {
   "cell_type": "code",
   "execution_count": 8,
   "id": "58229283",
   "metadata": {},
   "outputs": [
    {
     "data": {
      "text/plain": [
       "array([0, 1, 2, 5, 3, 4, 6, 9], dtype=int64)"
      ]
     },
     "execution_count": 8,
     "metadata": {},
     "output_type": "execute_result"
    }
   ],
   "source": [
    "df.Parch.unique()"
   ]
  },
  {
   "cell_type": "code",
   "execution_count": 9,
   "id": "0dd4eba6",
   "metadata": {},
   "outputs": [],
   "source": [
    "for col in df.columns:\n",
    "    if col.lower().startswith(\"zero\"):\n",
    "        if len(df[col].unique()):\n",
    "            df.pop(col)"
   ]
  },
  {
   "cell_type": "code",
   "execution_count": 10,
   "id": "7df6d80b",
   "metadata": {},
   "outputs": [
    {
     "data": {
      "text/html": [
       "<div>\n",
       "<style scoped>\n",
       "    .dataframe tbody tr th:only-of-type {\n",
       "        vertical-align: middle;\n",
       "    }\n",
       "\n",
       "    .dataframe tbody tr th {\n",
       "        vertical-align: top;\n",
       "    }\n",
       "\n",
       "    .dataframe thead th {\n",
       "        text-align: right;\n",
       "    }\n",
       "</style>\n",
       "<table border=\"1\" class=\"dataframe\">\n",
       "  <thead>\n",
       "    <tr style=\"text-align: right;\">\n",
       "      <th></th>\n",
       "      <th>Passengerid</th>\n",
       "      <th>Age</th>\n",
       "      <th>Fare</th>\n",
       "      <th>Sex</th>\n",
       "      <th>sibsp</th>\n",
       "      <th>Parch</th>\n",
       "      <th>Pclass</th>\n",
       "      <th>Embarked</th>\n",
       "      <th>2urvived</th>\n",
       "    </tr>\n",
       "  </thead>\n",
       "  <tbody>\n",
       "    <tr>\n",
       "      <th>0</th>\n",
       "      <td>1</td>\n",
       "      <td>22.0</td>\n",
       "      <td>7.2500</td>\n",
       "      <td>0</td>\n",
       "      <td>1</td>\n",
       "      <td>0</td>\n",
       "      <td>3</td>\n",
       "      <td>2.0</td>\n",
       "      <td>0</td>\n",
       "    </tr>\n",
       "    <tr>\n",
       "      <th>1</th>\n",
       "      <td>2</td>\n",
       "      <td>38.0</td>\n",
       "      <td>71.2833</td>\n",
       "      <td>1</td>\n",
       "      <td>1</td>\n",
       "      <td>0</td>\n",
       "      <td>1</td>\n",
       "      <td>0.0</td>\n",
       "      <td>1</td>\n",
       "    </tr>\n",
       "    <tr>\n",
       "      <th>2</th>\n",
       "      <td>3</td>\n",
       "      <td>26.0</td>\n",
       "      <td>7.9250</td>\n",
       "      <td>1</td>\n",
       "      <td>0</td>\n",
       "      <td>0</td>\n",
       "      <td>3</td>\n",
       "      <td>2.0</td>\n",
       "      <td>1</td>\n",
       "    </tr>\n",
       "    <tr>\n",
       "      <th>3</th>\n",
       "      <td>4</td>\n",
       "      <td>35.0</td>\n",
       "      <td>53.1000</td>\n",
       "      <td>1</td>\n",
       "      <td>1</td>\n",
       "      <td>0</td>\n",
       "      <td>1</td>\n",
       "      <td>2.0</td>\n",
       "      <td>1</td>\n",
       "    </tr>\n",
       "    <tr>\n",
       "      <th>4</th>\n",
       "      <td>5</td>\n",
       "      <td>35.0</td>\n",
       "      <td>8.0500</td>\n",
       "      <td>0</td>\n",
       "      <td>0</td>\n",
       "      <td>0</td>\n",
       "      <td>3</td>\n",
       "      <td>2.0</td>\n",
       "      <td>0</td>\n",
       "    </tr>\n",
       "  </tbody>\n",
       "</table>\n",
       "</div>"
      ],
      "text/plain": [
       "   Passengerid   Age     Fare  Sex  sibsp  Parch  Pclass  Embarked  2urvived\n",
       "0            1  22.0   7.2500    0      1      0       3       2.0         0\n",
       "1            2  38.0  71.2833    1      1      0       1       0.0         1\n",
       "2            3  26.0   7.9250    1      0      0       3       2.0         1\n",
       "3            4  35.0  53.1000    1      1      0       1       2.0         1\n",
       "4            5  35.0   8.0500    0      0      0       3       2.0         0"
      ]
     },
     "execution_count": 10,
     "metadata": {},
     "output_type": "execute_result"
    }
   ],
   "source": [
    "df.head()"
   ]
  },
  {
   "cell_type": "code",
   "execution_count": 11,
   "id": "962f57d3",
   "metadata": {},
   "outputs": [
    {
     "data": {
      "text/plain": [
       "Passengerid    0\n",
       "Age            0\n",
       "Fare           0\n",
       "Sex            0\n",
       "sibsp          0\n",
       "Parch          0\n",
       "Pclass         0\n",
       "Embarked       2\n",
       "2urvived       0\n",
       "dtype: int64"
      ]
     },
     "execution_count": 11,
     "metadata": {},
     "output_type": "execute_result"
    }
   ],
   "source": [
    "df.isnull().sum()"
   ]
  },
  {
   "cell_type": "code",
   "execution_count": 12,
   "id": "6977f780",
   "metadata": {},
   "outputs": [],
   "source": [
    "df.rename(columns = {'2urvived': 'Survived'}, inplace=True)"
   ]
  },
  {
   "cell_type": "code",
   "execution_count": 13,
   "id": "e0a96f60",
   "metadata": {},
   "outputs": [
    {
     "data": {
      "text/html": [
       "<div>\n",
       "<style scoped>\n",
       "    .dataframe tbody tr th:only-of-type {\n",
       "        vertical-align: middle;\n",
       "    }\n",
       "\n",
       "    .dataframe tbody tr th {\n",
       "        vertical-align: top;\n",
       "    }\n",
       "\n",
       "    .dataframe thead th {\n",
       "        text-align: right;\n",
       "    }\n",
       "</style>\n",
       "<table border=\"1\" class=\"dataframe\">\n",
       "  <thead>\n",
       "    <tr style=\"text-align: right;\">\n",
       "      <th></th>\n",
       "      <th>Passengerid</th>\n",
       "      <th>Age</th>\n",
       "      <th>Fare</th>\n",
       "      <th>Sex</th>\n",
       "      <th>sibsp</th>\n",
       "      <th>Parch</th>\n",
       "      <th>Pclass</th>\n",
       "      <th>Embarked</th>\n",
       "      <th>Survived</th>\n",
       "    </tr>\n",
       "  </thead>\n",
       "  <tbody>\n",
       "    <tr>\n",
       "      <th>0</th>\n",
       "      <td>1</td>\n",
       "      <td>22.0</td>\n",
       "      <td>7.2500</td>\n",
       "      <td>0</td>\n",
       "      <td>1</td>\n",
       "      <td>0</td>\n",
       "      <td>3</td>\n",
       "      <td>2.0</td>\n",
       "      <td>0</td>\n",
       "    </tr>\n",
       "    <tr>\n",
       "      <th>1</th>\n",
       "      <td>2</td>\n",
       "      <td>38.0</td>\n",
       "      <td>71.2833</td>\n",
       "      <td>1</td>\n",
       "      <td>1</td>\n",
       "      <td>0</td>\n",
       "      <td>1</td>\n",
       "      <td>0.0</td>\n",
       "      <td>1</td>\n",
       "    </tr>\n",
       "    <tr>\n",
       "      <th>2</th>\n",
       "      <td>3</td>\n",
       "      <td>26.0</td>\n",
       "      <td>7.9250</td>\n",
       "      <td>1</td>\n",
       "      <td>0</td>\n",
       "      <td>0</td>\n",
       "      <td>3</td>\n",
       "      <td>2.0</td>\n",
       "      <td>1</td>\n",
       "    </tr>\n",
       "    <tr>\n",
       "      <th>3</th>\n",
       "      <td>4</td>\n",
       "      <td>35.0</td>\n",
       "      <td>53.1000</td>\n",
       "      <td>1</td>\n",
       "      <td>1</td>\n",
       "      <td>0</td>\n",
       "      <td>1</td>\n",
       "      <td>2.0</td>\n",
       "      <td>1</td>\n",
       "    </tr>\n",
       "    <tr>\n",
       "      <th>4</th>\n",
       "      <td>5</td>\n",
       "      <td>35.0</td>\n",
       "      <td>8.0500</td>\n",
       "      <td>0</td>\n",
       "      <td>0</td>\n",
       "      <td>0</td>\n",
       "      <td>3</td>\n",
       "      <td>2.0</td>\n",
       "      <td>0</td>\n",
       "    </tr>\n",
       "  </tbody>\n",
       "</table>\n",
       "</div>"
      ],
      "text/plain": [
       "   Passengerid   Age     Fare  Sex  sibsp  Parch  Pclass  Embarked  Survived\n",
       "0            1  22.0   7.2500    0      1      0       3       2.0         0\n",
       "1            2  38.0  71.2833    1      1      0       1       0.0         1\n",
       "2            3  26.0   7.9250    1      0      0       3       2.0         1\n",
       "3            4  35.0  53.1000    1      1      0       1       2.0         1\n",
       "4            5  35.0   8.0500    0      0      0       3       2.0         0"
      ]
     },
     "execution_count": 13,
     "metadata": {},
     "output_type": "execute_result"
    }
   ],
   "source": [
    "df.head()"
   ]
  },
  {
   "cell_type": "code",
   "execution_count": 14,
   "id": "5d4c66a8",
   "metadata": {},
   "outputs": [
    {
     "data": {
      "text/plain": [
       "(1309, 9)"
      ]
     },
     "execution_count": 14,
     "metadata": {},
     "output_type": "execute_result"
    }
   ],
   "source": [
    "df.shape"
   ]
  },
  {
   "cell_type": "code",
   "execution_count": 15,
   "id": "32013536",
   "metadata": {},
   "outputs": [],
   "source": [
    "df.dropna(inplace=True)"
   ]
  },
  {
   "cell_type": "code",
   "execution_count": 16,
   "id": "95c87b13",
   "metadata": {},
   "outputs": [
    {
     "data": {
      "text/plain": [
       "(1307, 9)"
      ]
     },
     "execution_count": 16,
     "metadata": {},
     "output_type": "execute_result"
    }
   ],
   "source": [
    "df.shape"
   ]
  },
  {
   "cell_type": "code",
   "execution_count": 17,
   "id": "a62fb9f7",
   "metadata": {},
   "outputs": [
    {
     "data": {
      "text/plain": [
       "1      38.0\n",
       "11     58.0\n",
       "15     55.0\n",
       "25     38.0\n",
       "52     49.0\n",
       "       ... \n",
       "857    51.0\n",
       "862    48.0\n",
       "865    42.0\n",
       "871    47.0\n",
       "879    56.0\n",
       "Name: Age, Length: 81, dtype: float64"
      ]
     },
     "execution_count": 17,
     "metadata": {},
     "output_type": "execute_result"
    }
   ],
   "source": [
    "df[\"Age\"][(df[\"Age\"] > 35) & (df[\"Survived\"] == 1)]"
   ]
  },
  {
   "cell_type": "code",
   "execution_count": 18,
   "id": "9b560b10",
   "metadata": {},
   "outputs": [
    {
     "data": {
      "text/plain": [
       "6       54.0\n",
       "13      39.0\n",
       "30      40.0\n",
       "33      66.0\n",
       "35      42.0\n",
       "        ... \n",
       "1295    43.0\n",
       "1298    50.0\n",
       "1302    37.0\n",
       "1305    39.0\n",
       "1306    38.5\n",
       "Name: Age, Length: 239, dtype: float64"
      ]
     },
     "execution_count": 18,
     "metadata": {},
     "output_type": "execute_result"
    }
   ],
   "source": [
    "df[\"Age\"][(df[\"Age\"] > 35) & (df[\"Survived\"] == 0)]"
   ]
  },
  {
   "cell_type": "code",
   "execution_count": 480,
   "id": "8e66a2d3",
   "metadata": {},
   "outputs": [],
   "source": [
    "import matplotlib.pyplot as plt\n",
    "\n",
    "def bar_plot(input_dict, y_label, x_label, title):\n",
    "    fig, ax = plt.subplots(figsize = (7, 4))\n",
    "    df = pd.DataFrame(input_dict, index=[0]).T # , index=[0]\n",
    "    df.rename(columns = {0:\"Count\"}, inplace=True)\n",
    "    df['Survived'] = [\"Sink\", \"Lived\"]\n",
    "    print(df.head())\n",
    "\n",
    "\n",
    "    percentage = []\n",
    "    n_data = sum(list(input_dict.values()))\n",
    "    for i in range(df.shape[0]):\n",
    "        pct = (df[\"Count\"][i] / n_data) * 100\n",
    "        percentage.append(round(pct,2))\n",
    "    df['Percentage'] = percentage\n",
    "\n",
    "\n",
    "    p1 = plt.bar(df.Survived, df[\"Count\"], color = colors_list)\n",
    "    ax.set_title(title)\n",
    "    ax.set_ylabel(y_label)\n",
    "    ax.set_xlabel(x_label)\n",
    "\n",
    "\n",
    "    i = 0\n",
    "    for bar in p1:\n",
    "        width = bar.get_width()\n",
    "        height = bar.get_height()\n",
    "        x, y = bar.get_xy()\n",
    "        plt.text(x+width/2, y+height*1.01, str(df.Percentage[i])+'%', ha='center', weight='bold')\n",
    "        i += 1\n",
    "    plt.show()"
   ]
  },
  {
   "cell_type": "code",
   "execution_count": 481,
   "id": "bfbcfef6",
   "metadata": {},
   "outputs": [
    {
     "data": {
      "text/plain": [
       "{0: 967, 1: 340}"
      ]
     },
     "execution_count": 481,
     "metadata": {},
     "output_type": "execute_result"
    }
   ],
   "source": [
    "dict(df.Survived.value_counts())"
   ]
  },
  {
   "cell_type": "code",
   "execution_count": 482,
   "id": "86520b9e",
   "metadata": {},
   "outputs": [
    {
     "name": "stdout",
     "output_type": "stream",
     "text": [
      "   Count Survived\n",
      "0    967     Sink\n",
      "1    340    Lived\n"
     ]
    },
    {
     "data": {
      "image/png": "[encoded data removed]",
      "text/plain": [
       "<Figure size 700x400 with 1 Axes>"
      ]
     },
     "metadata": {},
     "output_type": "display_data"
    }
   ],
   "source": [
    "bar_plot(dict(df.Survived.value_counts()), \"number\", \"survived\", \"Survived people out of all the passengers\")"
   ]
  },
  {
   "cell_type": "code",
   "execution_count": 503,
   "id": "1f90862a",
   "metadata": {},
   "outputs": [
    {
     "name": "stdout",
     "output_type": "stream",
     "text": [
      "       Count\n",
      "Sink     239\n",
      "Lived     81\n"
     ]
    },
    {
     "data": {
      "image/png": "[encoded data removed]",
      "text/plain": [
       "<Figure size 640x480 with 1 Axes>"
      ]
     },
     "metadata": {},
     "output_type": "display_data"
    }
   ],
   "source": [
    "import matplotlib.pyplot as plt\n",
    "import seaborn as sb\n",
    "\n",
    "def sb_bar_plot(input_dict, y_label, x_label, title):\n",
    "    #fig, ax = plt.subplots(figsize = (7, 4))\n",
    "    df = pd.DataFrame(input_dict, index=[0]).T # , index=[0]\n",
    "    df.rename(columns = {0:\"Count\"}, inplace=True)\n",
    "    #df['Survived'] = [\"Sink\", \"Lived\"]\n",
    "    print(df.head())\n",
    "\n",
    "    unique_names = df.index\n",
    "    unique_values = df.Count.tolist()\n",
    "    n_pkmn = sum(unique_values)\n",
    "    max_count = unique_values[0]\n",
    "    max_prob = max_count/n_pkmn\n",
    "    tick_probs = np.arange(0, max_prob, 0.12)\n",
    "    tick_names = ['{:0.2f}'.format(v) for v in tick_probs]\n",
    "\n",
    "    sb.barplot(data = df, x=\"Count\", y=unique_names, order=unique_names);\n",
    "    plt.xticks(tick_probs * n_pkmn, tick_names)  #, rotation=90\n",
    "    plt.xlabel('proportion');\n",
    "\n",
    "    for i in range(len(unique_values)):\n",
    "        count = unique_values[i]\n",
    "        pct_string = '{:0.1f}'.format(100*count/n_pkmn)\n",
    "        plt.text(count+1, i, pct_string, va='center')\n",
    "\n",
    "sb_bar_plot(older_35, \"number\", \"survived\", \"Survived people older_35\")"
   ]
  },
  {
   "cell_type": "code",
   "execution_count": 473,
   "id": "360411f9",
   "metadata": {},
   "outputs": [],
   "source": [
    "older_35 = {\"Sink\": len(df[\"Age\"][(df[\"Age\"] > 35) & (df[\"Survived\"] == 0)]), \"Lived\": len(df[\"Age\"][(df[\"Age\"] > 35) & (df[\"Survived\"] == 1)])}"
   ]
  },
  {
   "cell_type": "code",
   "execution_count": 385,
   "id": "4e9515e1",
   "metadata": {},
   "outputs": [
    {
     "data": {
      "text/plain": [
       "{'Sink': 239, 'Lived': 81}"
      ]
     },
     "execution_count": 385,
     "metadata": {},
     "output_type": "execute_result"
    }
   ],
   "source": [
    "older_35"
   ]
  },
  {
   "cell_type": "code",
   "execution_count": 421,
   "id": "4dcf106e",
   "metadata": {},
   "outputs": [
    {
     "name": "stdout",
     "output_type": "stream",
     "text": [
      "       Count Survived\n",
      "Sink     239     Sink\n",
      "Lived     81    Lived\n"
     ]
    },
    {
     "data": {
      "image/png": "[encoded data removed]",
      "text/plain": [
       "<Figure size 700x400 with 1 Axes>"
      ]
     },
     "metadata": {},
     "output_type": "display_data"
    }
   ],
   "source": [
    "bar_plot(older_35, \"number\", \"survived\", \"Survived people older_35\")"
   ]
  },
  {
   "cell_type": "code",
   "execution_count": 387,
   "id": "f3b56fd8",
   "metadata": {},
   "outputs": [],
   "source": [
    "younger_35 = {\"Sink\": len(df[\"Age\"][(df[\"Age\"] < 35) & (df[\"Survived\"] == 0)]), \"Lived\": len(df[\"Age\"][(df[\"Age\"] < 35) & (df[\"Survived\"] == 1)])}"
   ]
  },
  {
   "cell_type": "code",
   "execution_count": 388,
   "id": "04134499",
   "metadata": {},
   "outputs": [
    {
     "data": {
      "text/plain": [
       "{'Sink': 716, 'Lived': 248}"
      ]
     },
     "execution_count": 388,
     "metadata": {},
     "output_type": "execute_result"
    }
   ],
   "source": [
    "younger_35"
   ]
  },
  {
   "cell_type": "code",
   "execution_count": 389,
   "id": "79c2896b",
   "metadata": {},
   "outputs": [
    {
     "name": "stdout",
     "output_type": "stream",
     "text": [
      "         0 Survived\n",
      "Sink   716     Sink\n",
      "Lived  248    Lived\n"
     ]
    },
    {
     "data": {
      "image/png": "[encoded data removed]",
      "text/plain": [
       "<Figure size 700x400 with 1 Axes>"
      ]
     },
     "metadata": {},
     "output_type": "display_data"
    }
   ],
   "source": [
    "bar_plot(younger_35, \"number\", \"survived\", \"Survived people younger_35\")"
   ]
  },
  {
   "cell_type": "code",
   "execution_count": 390,
   "id": "7e34d4ed",
   "metadata": {},
   "outputs": [
    {
     "data": {
      "text/plain": [
       "{3: 709, 1: 321, 2: 277}"
      ]
     },
     "execution_count": 390,
     "metadata": {},
     "output_type": "execute_result"
    }
   ],
   "source": [
    "dict(df.Pclass.value_counts())"
   ]
  },
  {
   "cell_type": "code",
   "execution_count": 391,
   "id": "c618ce2b",
   "metadata": {},
   "outputs": [],
   "source": [
    "sink_pclass1 = len(df[\"Age\"][(df[\"Pclass\"] == 1) & (df[\"Survived\"] == 0)])"
   ]
  },
  {
   "cell_type": "code",
   "execution_count": 392,
   "id": "02f4ed07",
   "metadata": {},
   "outputs": [],
   "source": [
    "survived_pclass1 = len(df[\"Age\"][(df[\"Pclass\"] == 1) & (df[\"Survived\"] == 1)])"
   ]
  },
  {
   "cell_type": "code",
   "execution_count": 393,
   "id": "68b116d8",
   "metadata": {},
   "outputs": [],
   "source": [
    "Pclass_1 = {\"Sink\":sink_pclass1, \"Lived\":survived_pclass1}"
   ]
  },
  {
   "cell_type": "code",
   "execution_count": 394,
   "id": "1bbb3056",
   "metadata": {},
   "outputs": [
    {
     "name": "stdout",
     "output_type": "stream",
     "text": [
      "         0 Survived\n",
      "Sink   187     Sink\n",
      "Lived  134    Lived\n"
     ]
    },
    {
     "data": {
      "image/png": "[encoded data removed]",
      "text/plain": [
       "<Figure size 700x400 with 1 Axes>"
      ]
     },
     "metadata": {},
     "output_type": "display_data"
    }
   ],
   "source": [
    "bar_plot(Pclass_1, \"number\", \"survived\", \"Pclass_1\")"
   ]
  },
  {
   "cell_type": "code",
   "execution_count": 395,
   "id": "c8678bf9",
   "metadata": {},
   "outputs": [],
   "source": [
    "sink_pclass2 = len(df[\"Age\"][(df[\"Pclass\"] == 2) & (df[\"Survived\"] == 0)])"
   ]
  },
  {
   "cell_type": "code",
   "execution_count": 396,
   "id": "dac365d7",
   "metadata": {},
   "outputs": [],
   "source": [
    "survived_pclass2 = len(df[\"Age\"][(df[\"Pclass\"] == 2) & (df[\"Survived\"] == 1)])"
   ]
  },
  {
   "cell_type": "code",
   "execution_count": 397,
   "id": "b4dd0a06",
   "metadata": {},
   "outputs": [],
   "source": [
    "Pclass_2 = {\"Sink\":sink_pclass2, \"Lived\":survived_pclass2}"
   ]
  },
  {
   "cell_type": "code",
   "execution_count": 398,
   "id": "40c245ed",
   "metadata": {},
   "outputs": [
    {
     "name": "stdout",
     "output_type": "stream",
     "text": [
      "         0 Survived\n",
      "Sink   190     Sink\n",
      "Lived   87    Lived\n"
     ]
    },
    {
     "data": {
      "image/png": "[encoded data removed]",
      "text/plain": [
       "<Figure size 700x400 with 1 Axes>"
      ]
     },
     "metadata": {},
     "output_type": "display_data"
    }
   ],
   "source": [
    "bar_plot(Pclass_2, \"number\", \"survived\", \"Pclass_2\")"
   ]
  },
  {
   "cell_type": "code",
   "execution_count": 399,
   "id": "0aef0c1a",
   "metadata": {},
   "outputs": [],
   "source": [
    "sink_pclass3 = len(df[\"Age\"][(df[\"Pclass\"] == 3) & (df[\"Survived\"] == 0)])"
   ]
  },
  {
   "cell_type": "code",
   "execution_count": 400,
   "id": "65acb4bd",
   "metadata": {},
   "outputs": [],
   "source": [
    "survived_pclass3 = len(df[\"Age\"][(df[\"Pclass\"] == 3) & (df[\"Survived\"] == 1)])"
   ]
  },
  {
   "cell_type": "code",
   "execution_count": 401,
   "id": "a449decd",
   "metadata": {},
   "outputs": [],
   "source": [
    "Pclass_3 = {\"Sink\":sink_pclass3, \"Lived\":survived_pclass3}"
   ]
  },
  {
   "cell_type": "code",
   "execution_count": 422,
   "id": "66d562ea",
   "metadata": {},
   "outputs": [
    {
     "name": "stdout",
     "output_type": "stream",
     "text": [
      "       Count Survived\n",
      "Sink     590     Sink\n",
      "Lived    119    Lived\n"
     ]
    },
    {
     "data": {
      "image/png": "[encoded data removed]",
      "text/plain": [
       "<Figure size 700x400 with 1 Axes>"
      ]
     },
     "metadata": {},
     "output_type": "display_data"
    }
   ],
   "source": [
    "bar_plot(Pclass_3, \"number\", \"survived\", \"Pclass_3\")"
   ]
  },
  {
   "cell_type": "code",
   "execution_count": 403,
   "id": "d4adca40",
   "metadata": {},
   "outputs": [
    {
     "data": {
      "text/plain": [
       "0    843\n",
       "1    464\n",
       "Name: Sex, dtype: int64"
      ]
     },
     "execution_count": 403,
     "metadata": {},
     "output_type": "execute_result"
    }
   ],
   "source": [
    "df.Sex.value_counts()"
   ]
  },
  {
   "cell_type": "code",
   "execution_count": 404,
   "id": "28f89f84",
   "metadata": {},
   "outputs": [],
   "source": [
    "sink_male = len(df[\"Age\"][(df[\"Sex\"] == 1) & (df[\"Survived\"] == 0)])"
   ]
  },
  {
   "cell_type": "code",
   "execution_count": 405,
   "id": "85aacac8",
   "metadata": {},
   "outputs": [],
   "source": [
    "survived_male = len(df[\"Age\"][(df[\"Pclass\"] == 1) & (df[\"Survived\"] == 1)])"
   ]
  },
  {
   "cell_type": "code",
   "execution_count": 406,
   "id": "07bc60ff",
   "metadata": {},
   "outputs": [],
   "source": [
    "men = {\"Sink\":sink_male, \"Lived\":survived_male}"
   ]
  },
  {
   "cell_type": "code",
   "execution_count": 423,
   "id": "146c71b5",
   "metadata": {},
   "outputs": [
    {
     "name": "stdout",
     "output_type": "stream",
     "text": [
      "       Count Survived\n",
      "Sink     233     Sink\n",
      "Lived    134    Lived\n"
     ]
    },
    {
     "data": {
      "image/png": "[encoded data removed]",
      "text/plain": [
       "<Figure size 700x400 with 1 Axes>"
      ]
     },
     "metadata": {},
     "output_type": "display_data"
    }
   ],
   "source": [
    "bar_plot(men, \"number\", \"survived\", \"men\")"
   ]
  },
  {
   "cell_type": "code",
   "execution_count": 408,
   "id": "a0fb2664",
   "metadata": {},
   "outputs": [],
   "source": [
    "sink_female = len(df[\"Age\"][(df[\"Sex\"] == 0) & (df[\"Survived\"] == 0)])"
   ]
  },
  {
   "cell_type": "code",
   "execution_count": 409,
   "id": "81fac541",
   "metadata": {},
   "outputs": [],
   "source": [
    "survived_female = len(df[\"Age\"][(df[\"Sex\"] == 0) & (df[\"Survived\"] == 1)])"
   ]
  },
  {
   "cell_type": "code",
   "execution_count": 410,
   "id": "1b29898b",
   "metadata": {},
   "outputs": [],
   "source": [
    "women = {\"Sink\":sink_female, \"Lived\":survived_female}"
   ]
  },
  {
   "cell_type": "code",
   "execution_count": 424,
   "id": "f0cb0787",
   "metadata": {
    "scrolled": false
   },
   "outputs": [
    {
     "name": "stdout",
     "output_type": "stream",
     "text": [
      "       Count Survived\n",
      "Sink     734     Sink\n",
      "Lived    109    Lived\n"
     ]
    },
    {
     "data": {
      "image/png": "[encoded data removed]",
      "text/plain": [
       "<Figure size 700x400 with 1 Axes>"
      ]
     },
     "metadata": {},
     "output_type": "display_data"
    }
   ],
   "source": [
    "bar_plot(women, \"number\", \"survived\", \"women\")"
   ]
  },
  {
   "cell_type": "code",
   "execution_count": null,
   "id": "8e7bbeec",
   "metadata": {},
   "outputs": [],
   "source": []
  },
  {
   "cell_type": "code",
   "execution_count": 505,
   "id": "1210cb36",
   "metadata": {
    "scrolled": false
   },
   "outputs": [
    {
     "data": {
      "text/plain": [
       "{8.05: 60,\n",
       " 13.0: 59,\n",
       " 7.75: 55,\n",
       " 26.0: 50,\n",
       " 7.8958: 49,\n",
       " 10.5: 35,\n",
       " 7.775: 26,\n",
       " 7.2292: 24,\n",
       " 7.925: 23,\n",
       " 26.55: 22,\n",
       " 7.225: 21,\n",
       " 8.6625: 21,\n",
       " 7.8542: 21,\n",
       " 7.25: 18,\n",
       " 0.0: 17,\n",
       " 21.0: 14,\n",
       " 16.1: 12,\n",
       " 9.5: 12,\n",
       " 14.4542: 11,\n",
       " 14.5: 11,\n",
       " 27.7208: 11,\n",
       " 69.55: 11,\n",
       " 15.5: 10,\n",
       " 7.8792: 10,\n",
       " 7.7958: 10,\n",
       " 15.2458: 9,\n",
       " 24.15: 9,\n",
       " 7.05: 9,\n",
       " 7.55: 8,\n",
       " 56.4958: 8,\n",
       " 46.9: 8,\n",
       " 52.0: 8,\n",
       " 23.0: 7,\n",
       " 13.5: 7,\n",
       " 39.0: 7,\n",
       " 39.6875: 7,\n",
       " 31.3875: 7,\n",
       " 73.5: 7,\n",
       " 31.275: 7,\n",
       " 30.0: 7,\n",
       " 262.375: 7,\n",
       " 7.7333: 7,\n",
       " 79.2: 6,\n",
       " 83.1583: 6,\n",
       " 11.5: 6,\n",
       " 263.0: 6,\n",
       " 151.55: 6,\n",
       " 7.65: 6,\n",
       " 30.5: 6,\n",
       " 53.1: 6,\n",
       " 27.9: 6,\n",
       " 26.25: 6,\n",
       " 29.125: 6,\n",
       " 34.375: 5,\n",
       " 12.35: 5,\n",
       " 65.0: 5,\n",
       " 134.5: 5,\n",
       " 211.5: 5,\n",
       " 29.7: 5,\n",
       " 25.4667: 5,\n",
       " 227.525: 5,\n",
       " 27.75: 5,\n",
       " 21.075: 5,\n",
       " 90.0: 5,\n",
       " 15.85: 4,\n",
       " 41.5792: 4,\n",
       " 35.5: 4,\n",
       " 23.45: 4,\n",
       " 7.125: 4,\n",
       " 110.8833: 4,\n",
       " 211.3375: 4,\n",
       " 18.0: 4,\n",
       " 36.75: 4,\n",
       " 52.5542: 4,\n",
       " 164.8667: 4,\n",
       " 12.475: 4,\n",
       " 51.8625: 4,\n",
       " 120.0: 4,\n",
       " 19.2583: 4,\n",
       " 55.4417: 4,\n",
       " 14.4583: 4,\n",
       " 20.575: 4,\n",
       " 59.4: 4,\n",
       " 512.3292: 4,\n",
       " 135.6333: 4,\n",
       " 221.7792: 4,\n",
       " 93.5: 4,\n",
       " 153.4625: 3,\n",
       " 79.65: 3,\n",
       " 77.9583: 3,\n",
       " 86.5: 3,\n",
       " 20.2125: 3,\n",
       " 20.25: 3,\n",
       " 78.85: 3,\n",
       " 22.525: 3,\n",
       " 108.9: 3,\n",
       " 15.9: 3,\n",
       " 13.775: 3,\n",
       " 31.5: 3,\n",
       " 13.8583: 3,\n",
       " 6.4375: 3,\n",
       " 37.0042: 3,\n",
       " 33.0: 3,\n",
       " 39.6: 3,\n",
       " 7.8292: 3,\n",
       " 106.425: 3,\n",
       " 7.4958: 3,\n",
       " 26.2875: 3,\n",
       " 81.8583: 3,\n",
       " 14.4: 3,\n",
       " 32.5: 3,\n",
       " 18.75: 3,\n",
       " 15.7417: 3,\n",
       " 9.225: 3,\n",
       " 9.35: 3,\n",
       " 23.25: 3,\n",
       " 76.7292: 3,\n",
       " 22.025: 3,\n",
       " 29.0: 3,\n",
       " 247.5208: 3,\n",
       " 22.3583: 3,\n",
       " 21.6792: 3,\n",
       " 15.0458: 3,\n",
       " 16.7: 3,\n",
       " 20.525: 3,\n",
       " 11.1333: 3,\n",
       " 146.5208: 3,\n",
       " 113.275: 3,\n",
       " 6.4958: 3,\n",
       " 31.0: 3,\n",
       " 83.475: 2,\n",
       " 17.4: 2,\n",
       " 12.1833: 2,\n",
       " 136.7792: 2,\n",
       " 17.8: 2,\n",
       " 13.8625: 2,\n",
       " 71.0: 2,\n",
       " 27.0: 2,\n",
       " 61.9792: 2,\n",
       " 57.75: 2,\n",
       " 8.7125: 2,\n",
       " 9.0: 2,\n",
       " 7.6292: 2,\n",
       " 15.1: 2,\n",
       " 78.2667: 2,\n",
       " 49.5042: 2,\n",
       " 9.5875: 2,\n",
       " 12.2875: 2,\n",
       " 7.725: 2,\n",
       " 89.1042: 2,\n",
       " 51.4792: 2,\n",
       " 11.2417: 2,\n",
       " 60.0: 2,\n",
       " 7.8875: 2,\n",
       " 82.2667: 2,\n",
       " 7.0: 2,\n",
       " 50.4958: 2,\n",
       " 30.0708: 2,\n",
       " 14.1083: 2,\n",
       " 13.9: 2,\n",
       " 39.4: 2,\n",
       " 6.95: 2,\n",
       " 16.0: 2,\n",
       " 8.5167: 2,\n",
       " 75.2417: 2,\n",
       " 25.9292: 2,\n",
       " 7.7375: 2,\n",
       " 13.4167: 2,\n",
       " 57.0: 2,\n",
       " 47.1: 2,\n",
       " 7.0542: 2,\n",
       " 82.1708: 2,\n",
       " 15.55: 2,\n",
       " 42.4: 2,\n",
       " 19.9667: 2,\n",
       " 76.2917: 2,\n",
       " 8.1125: 2,\n",
       " 61.3792: 2,\n",
       " 6.975: 2,\n",
       " 133.65: 2,\n",
       " 28.5: 2,\n",
       " 57.9792: 2,\n",
       " 6.75: 2,\n",
       " 56.9292: 2,\n",
       " 24.0: 2,\n",
       " 71.2833: 2,\n",
       " 15.75: 2,\n",
       " 69.3: 2,\n",
       " 12.875: 2,\n",
       " 91.0792: 2,\n",
       " 55.0: 2,\n",
       " 19.5: 2,\n",
       " 30.6958: 2,\n",
       " 50.0: 2,\n",
       " 10.4625: 2,\n",
       " 18.7875: 2,\n",
       " 75.25: 2,\n",
       " 66.6: 2,\n",
       " 77.2875: 2,\n",
       " 9.825: 2,\n",
       " 55.9: 2,\n",
       " 63.3583: 2,\n",
       " 61.175: 2,\n",
       " 7.1417: 1,\n",
       " 31.6833: 1,\n",
       " 15.0333: 1,\n",
       " 38.5: 1,\n",
       " 7.85: 1,\n",
       " 15.05: 1,\n",
       " 28.7125: 1,\n",
       " 7.875: 1,\n",
       " 3.1708: 1,\n",
       " 28.5375: 1,\n",
       " 9.6875: 1,\n",
       " 13.7917: 1,\n",
       " 10.5167: 1,\n",
       " 9.8458: 1,\n",
       " 5.0: 1,\n",
       " 33.5: 1,\n",
       " 15.5792: 1,\n",
       " 10.7083: 1,\n",
       " 25.7: 1,\n",
       " 25.7417: 1,\n",
       " 7.5792: 1,\n",
       " 7.575: 1,\n",
       " 45.5: 1,\n",
       " 12.7375: 1,\n",
       " 9.325: 1,\n",
       " 27.4458: 1,\n",
       " 42.5: 1,\n",
       " 8.9625: 1,\n",
       " 9.8375: 1,\n",
       " 8.4583: 1,\n",
       " 12.275: 1,\n",
       " 7.2833: 1,\n",
       " 31.6792: 1,\n",
       " 7.7792: 1,\n",
       " 7.8208: 1,\n",
       " 8.4042: 1,\n",
       " 25.925: 1,\n",
       " 7.5208: 1,\n",
       " 7.0458: 1,\n",
       " 40.125: 1,\n",
       " 32.3208: 1,\n",
       " 9.2167: 1,\n",
       " 14.0: 1,\n",
       " 26.2833: 1,\n",
       " 6.2375: 1,\n",
       " 15.0: 1,\n",
       " 7.7292: 1,\n",
       " 9.475: 1,\n",
       " 8.4333: 1,\n",
       " 26.3875: 1,\n",
       " 8.6542: 1,\n",
       " 8.1583: 1,\n",
       " 35.0: 1,\n",
       " 34.0208: 1,\n",
       " 4.0125: 1,\n",
       " 49.5: 1,\n",
       " 12.0: 1,\n",
       " 25.5875: 1,\n",
       " 7.8: 1,\n",
       " 8.0292: 1,\n",
       " 8.3: 1,\n",
       " 8.85: 1,\n",
       " 6.45: 1,\n",
       " 34.6542: 1,\n",
       " 6.8583: 1,\n",
       " 8.6833: 1,\n",
       " 7.3125: 1,\n",
       " 8.3625: 1,\n",
       " 9.8417: 1,\n",
       " 7.7875: 1,\n",
       " 9.4833: 1,\n",
       " 7.7417: 1,\n",
       " 12.525: 1,\n",
       " 12.65: 1,\n",
       " 10.1708: 1,\n",
       " 8.1375: 1,\n",
       " 7.7208: 1}"
      ]
     },
     "execution_count": 505,
     "metadata": {},
     "output_type": "execute_result"
    }
   ],
   "source": [
    "dict(df.Fare.value_counts())"
   ]
  },
  {
   "cell_type": "code",
   "execution_count": null,
   "id": "618c71cd",
   "metadata": {},
   "outputs": [],
   "source": []
  },
  {
   "cell_type": "code",
   "execution_count": 120,
   "id": "f2217dc8",
   "metadata": {},
   "outputs": [
    {
     "data": {
      "text/plain": [
       "18"
      ]
     },
     "execution_count": 120,
     "metadata": {},
     "output_type": "execute_result"
    }
   ],
   "source": [
    "len(df[\"Fare\"][(df[\"Fare\"] > 220) & (df[\"Survived\"] == 0)])"
   ]
  },
  {
   "cell_type": "code",
   "execution_count": 121,
   "id": "199c0474",
   "metadata": {},
   "outputs": [
    {
     "data": {
      "text/plain": [
       "11"
      ]
     },
     "execution_count": 121,
     "metadata": {},
     "output_type": "execute_result"
    }
   ],
   "source": [
    "len(df[\"Fare\"][(df[\"Fare\"] > 220) & (df[\"Survived\"] == 1)])"
   ]
  },
  {
   "cell_type": "code",
   "execution_count": 122,
   "id": "dfffc22f",
   "metadata": {},
   "outputs": [
    {
     "data": {
      "text/plain": [
       "{0: 889, 1: 319, 2: 42, 4: 22, 3: 20, 8: 9, 5: 6}"
      ]
     },
     "execution_count": 122,
     "metadata": {},
     "output_type": "execute_result"
    }
   ],
   "source": [
    "dict(df.sibsp.value_counts())"
   ]
  },
  {
   "cell_type": "code",
   "execution_count": 125,
   "id": "8fe2fe51",
   "metadata": {},
   "outputs": [
    {
     "data": {
      "text/plain": [
       "208"
      ]
     },
     "execution_count": 125,
     "metadata": {},
     "output_type": "execute_result"
    }
   ],
   "source": [
    "len(df[\"sibsp\"][(df[\"sibsp\"] == 0) & (df[\"Survived\"] == 1)])"
   ]
  },
  {
   "cell_type": "code",
   "execution_count": 137,
   "id": "144a1237",
   "metadata": {},
   "outputs": [
    {
     "data": {
      "text/plain": [
       "0"
      ]
     },
     "execution_count": 137,
     "metadata": {},
     "output_type": "execute_result"
    }
   ],
   "source": [
    "len(df[\"sibsp\"][(df[\"sibsp\"] == 5) & (df[\"Survived\"] == 1)])"
   ]
  },
  {
   "cell_type": "code",
   "execution_count": 223,
   "id": "3c061627",
   "metadata": {},
   "outputs": [],
   "source": [
    "import seaborn as sns\n",
    "\n",
    "def count_plot(df, col, title):\n",
    "    n_data = df[col].value_counts().sum()\n",
    "    max_type_count = df[col].value_counts()[0]\n",
    "    max_prop = max_type_count / n_data\n",
    "\n",
    "    tick_props = np.arange(0, max_prop, 0.1)\n",
    "    tick_names = ['{:0.2f}'.format(v) for v in tick_props]\n",
    "\n",
    "    sns.countplot(data=df, y = col);\n",
    "    plt.title(title)\n",
    "    plt.xticks(tick_props * n_data, tick_names)\n",
    "    plt.xlabel('proportion');\n",
    "\n",
    "    for i in range(df[col].value_counts().shape[0]):\n",
    "        count = df[col].value_counts()[i]\n",
    "        pct_string = '{:0.1f}'.format(100*count/n_data)\n",
    "        plt.text(count+1, i, pct_string, va='center')"
   ]
  },
  {
   "cell_type": "code",
   "execution_count": 201,
   "id": "1e2faedf",
   "metadata": {},
   "outputs": [
    {
     "data": {
      "image/png": "[encoded data removed]",
      "text/plain": [
       "<Figure size 640x480 with 1 Axes>"
      ]
     },
     "metadata": {},
     "output_type": "display_data"
    }
   ],
   "source": [
    "count_plot(df, \"Survived\", \"Survived vs Sinked\")"
   ]
  },
  {
   "cell_type": "code",
   "execution_count": 140,
   "id": "0ebf079d",
   "metadata": {},
   "outputs": [
    {
     "data": {
      "text/html": [
       "<div>\n",
       "<style scoped>\n",
       "    .dataframe tbody tr th:only-of-type {\n",
       "        vertical-align: middle;\n",
       "    }\n",
       "\n",
       "    .dataframe tbody tr th {\n",
       "        vertical-align: top;\n",
       "    }\n",
       "\n",
       "    .dataframe thead th {\n",
       "        text-align: right;\n",
       "    }\n",
       "</style>\n",
       "<table border=\"1\" class=\"dataframe\">\n",
       "  <thead>\n",
       "    <tr style=\"text-align: right;\">\n",
       "      <th></th>\n",
       "      <th>Passengerid</th>\n",
       "      <th>Age</th>\n",
       "      <th>Fare</th>\n",
       "      <th>Sex</th>\n",
       "      <th>sibsp</th>\n",
       "      <th>Parch</th>\n",
       "      <th>Pclass</th>\n",
       "      <th>Embarked</th>\n",
       "      <th>Survived</th>\n",
       "    </tr>\n",
       "  </thead>\n",
       "  <tbody>\n",
       "    <tr>\n",
       "      <th>Passengerid</th>\n",
       "      <td>1.000000</td>\n",
       "      <td>0.025792</td>\n",
       "      <td>0.031945</td>\n",
       "      <td>-0.012297</td>\n",
       "      <td>-0.055696</td>\n",
       "      <td>0.008576</td>\n",
       "      <td>-0.039776</td>\n",
       "      <td>-0.051518</td>\n",
       "      <td>-0.331125</td>\n",
       "    </tr>\n",
       "    <tr>\n",
       "      <th>Age</th>\n",
       "      <td>0.025792</td>\n",
       "      <td>1.000000</td>\n",
       "      <td>0.176554</td>\n",
       "      <td>-0.057161</td>\n",
       "      <td>-0.189332</td>\n",
       "      <td>-0.125112</td>\n",
       "      <td>-0.375811</td>\n",
       "      <td>-0.065125</td>\n",
       "      <td>-0.060236</td>\n",
       "    </tr>\n",
       "    <tr>\n",
       "      <th>Fare</th>\n",
       "      <td>0.031945</td>\n",
       "      <td>0.176554</td>\n",
       "      <td>1.000000</td>\n",
       "      <td>0.184192</td>\n",
       "      <td>0.161141</td>\n",
       "      <td>0.222422</td>\n",
       "      <td>-0.557915</td>\n",
       "      <td>-0.239212</td>\n",
       "      <td>0.171942</td>\n",
       "    </tr>\n",
       "    <tr>\n",
       "      <th>Sex</th>\n",
       "      <td>-0.012297</td>\n",
       "      <td>-0.057161</td>\n",
       "      <td>0.184192</td>\n",
       "      <td>1.000000</td>\n",
       "      <td>0.110768</td>\n",
       "      <td>0.214371</td>\n",
       "      <td>-0.121826</td>\n",
       "      <td>-0.099408</td>\n",
       "      <td>0.401985</td>\n",
       "    </tr>\n",
       "    <tr>\n",
       "      <th>sibsp</th>\n",
       "      <td>-0.055696</td>\n",
       "      <td>-0.189332</td>\n",
       "      <td>0.161141</td>\n",
       "      <td>0.110768</td>\n",
       "      <td>1.000000</td>\n",
       "      <td>0.373383</td>\n",
       "      <td>0.059819</td>\n",
       "      <td>0.066055</td>\n",
       "      <td>-0.013174</td>\n",
       "    </tr>\n",
       "    <tr>\n",
       "      <th>Parch</th>\n",
       "      <td>0.008576</td>\n",
       "      <td>-0.125112</td>\n",
       "      <td>0.222422</td>\n",
       "      <td>0.214371</td>\n",
       "      <td>0.373383</td>\n",
       "      <td>1.000000</td>\n",
       "      <td>0.017304</td>\n",
       "      <td>0.045216</td>\n",
       "      <td>0.056183</td>\n",
       "    </tr>\n",
       "    <tr>\n",
       "      <th>Pclass</th>\n",
       "      <td>-0.039776</td>\n",
       "      <td>-0.375811</td>\n",
       "      <td>-0.557915</td>\n",
       "      <td>-0.121826</td>\n",
       "      <td>0.059819</td>\n",
       "      <td>0.017304</td>\n",
       "      <td>1.000000</td>\n",
       "      <td>0.187349</td>\n",
       "      <td>-0.241672</td>\n",
       "    </tr>\n",
       "    <tr>\n",
       "      <th>Embarked</th>\n",
       "      <td>-0.051518</td>\n",
       "      <td>-0.065125</td>\n",
       "      <td>-0.239212</td>\n",
       "      <td>-0.099408</td>\n",
       "      <td>0.066055</td>\n",
       "      <td>0.045216</td>\n",
       "      <td>0.187349</td>\n",
       "      <td>1.000000</td>\n",
       "      <td>-0.093225</td>\n",
       "    </tr>\n",
       "    <tr>\n",
       "      <th>Survived</th>\n",
       "      <td>-0.331125</td>\n",
       "      <td>-0.060236</td>\n",
       "      <td>0.171942</td>\n",
       "      <td>0.401985</td>\n",
       "      <td>-0.013174</td>\n",
       "      <td>0.056183</td>\n",
       "      <td>-0.241672</td>\n",
       "      <td>-0.093225</td>\n",
       "      <td>1.000000</td>\n",
       "    </tr>\n",
       "  </tbody>\n",
       "</table>\n",
       "</div>"
      ],
      "text/plain": [
       "             Passengerid       Age      Fare       Sex     sibsp     Parch  \\\n",
       "Passengerid     1.000000  0.025792  0.031945 -0.012297 -0.055696  0.008576   \n",
       "Age             0.025792  1.000000  0.176554 -0.057161 -0.189332 -0.125112   \n",
       "Fare            0.031945  0.176554  1.000000  0.184192  0.161141  0.222422   \n",
       "Sex            -0.012297 -0.057161  0.184192  1.000000  0.110768  0.214371   \n",
       "sibsp          -0.055696 -0.189332  0.161141  0.110768  1.000000  0.373383   \n",
       "Parch           0.008576 -0.125112  0.222422  0.214371  0.373383  1.000000   \n",
       "Pclass         -0.039776 -0.375811 -0.557915 -0.121826  0.059819  0.017304   \n",
       "Embarked       -0.051518 -0.065125 -0.239212 -0.099408  0.066055  0.045216   \n",
       "Survived       -0.331125 -0.060236  0.171942  0.401985 -0.013174  0.056183   \n",
       "\n",
       "               Pclass  Embarked  Survived  \n",
       "Passengerid -0.039776 -0.051518 -0.331125  \n",
       "Age         -0.375811 -0.065125 -0.060236  \n",
       "Fare        -0.557915 -0.239212  0.171942  \n",
       "Sex         -0.121826 -0.099408  0.401985  \n",
       "sibsp        0.059819  0.066055 -0.013174  \n",
       "Parch        0.017304  0.045216  0.056183  \n",
       "Pclass       1.000000  0.187349 -0.241672  \n",
       "Embarked     0.187349  1.000000 -0.093225  \n",
       "Survived    -0.241672 -0.093225  1.000000  "
      ]
     },
     "execution_count": 140,
     "metadata": {},
     "output_type": "execute_result"
    }
   ],
   "source": [
    "df.corr()"
   ]
  },
  {
   "cell_type": "code",
   "execution_count": 144,
   "id": "f381483d",
   "metadata": {},
   "outputs": [
    {
     "data": {
      "image/png": "[encoded data removed]",
      "text/plain": [
       "<Figure size 640x480 with 1 Axes>"
      ]
     },
     "metadata": {},
     "output_type": "display_data"
    }
   ],
   "source": [
    "df.corr().plot()\n",
    "plt.xticks(rotation=90);"
   ]
  },
  {
   "cell_type": "code",
   "execution_count": null,
   "id": "0b8d988a",
   "metadata": {},
   "outputs": [],
   "source": []
  }
 ],
 "metadata": {
  "kernelspec": {
   "display_name": "Python 3 (ipykernel)",
   "language": "python",
   "name": "python3"
  },
  "language_info": {
   "codemirror_mode": {
    "name": "ipython",
    "version": 3
   },
   "file_extension": ".py",
   "mimetype": "text/x-python",
   "name": "python",
   "nbconvert_exporter": "python",
   "pygments_lexer": "ipython3",
   "version": "3.7.13"
  }
 },
 "nbformat": 4,
 "nbformat_minor": 5
}
